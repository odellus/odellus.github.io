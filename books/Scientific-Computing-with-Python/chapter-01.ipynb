{
 "cells": [
  {
   "cell_type": "markdown",
   "metadata": {},
   "source": [
    "---\n",
    "title: \"Chapter 1 - NumPy Arrays\"\n",
    "---\n"
   ]
  },
  {
   "cell_type": "markdown",
   "metadata": {},
   "source": [
    "\n",
    "\n",
    ":::{figure} ./images/numpy_logo.svg\n",
    ":label: numpy-logo\n",
    ":align: right\n",
    ":width: 35%\n",
    ":::"
   ]
  },
  {
   "cell_type": "markdown",
   "metadata": {},
   "source": [
    ":::{div}\n",
    ":class: dark:hidden\n",
    "\n",
    "\n",
    "```{tip} This is a notebook\n",
    ":label: download-light\n",
    "You can download it by clicking ![the download button](/images/download_icon_light.svg) at the top right.\n",
    "\n",
    "```\n",
    ":::\n",
    ":::{div}\n",
    ":class: hidden dark:block\n",
    "\n",
    "```{tip} This is a notebook\n",
    ":label: download-dark\n",
    "You can download it by clicking ![the download button](/images/download_icon_dark.svg) at the top right.\n",
    "\n",
    "```\n",
    ":::"
   ]
  },
  {
   "cell_type": "markdown",
   "metadata": {},
   "source": [
    "# Assumptions\n",
    "\n",
    "I'm assuming you've downloaded [VS Code](https://code.visualstudio.com/) because everyone uses it or Cursor or some other IDE. If you haven't, you should. Go through the steps of learning how to open files and all that and come back here. Especially after you learn how to use the terminal, because I'm going to shout stuff out like \n",
    "\n",
    "run this\n",
    "```bash\n",
    "mkdir some_directory\n",
    "cd some_directory\n",
    "```\n",
    "and you need to know what I mean, so quick intro to linux or command line would behoove anyone new to scientific computing. If you're not using Linux on a laptop/desktop, buy a laptop, a wireless keyboard/mouse combo, and a monitor and [start today](https://ubuntu.com/desktop). You can't do this shit on a fucking phone or a tablet. Don't try.\n",
    "\n",
    "\n",
    "# Install `uv`\n",
    "\n",
    "Go read [how to install `uv`](https://docs.astral.sh/uv/getting-started/installation/) yourself. Too lazy to do that. Okay here\n",
    "\n",
    "```bash\n",
    "curl -LsSf https://astral.sh/uv/install.sh | sh\n",
    "``` \n",
    "\n",
    "Let's create a directory somewhere to run our code\n",
    "```bash\n",
    "# I always use something like this\n",
    "mkdir -p ~/src\n",
    "cd ~/src\n",
    "# Let's create a directory for our work\n",
    "mkdir scicomp_py\n",
    "cd scicomp_py\n",
    "# Initialize uv\n",
    "uv init .\n",
    "uv venv\n",
    "source .venv/bin/activate\n",
    "# You should have installed cursor or vs code or something\n",
    "code . # or cursor .\n",
    "```\n",
    "\n",
    "Okay now you're ready to rock and roll. Other people might tell you to use `conda` or even just use `pip` with your system install. We are not those people. I used to use my system install for years until I got into installing conda at work.\n",
    "\n",
    "As I understand continuum analytics or whatever the company behind `conda` decided they were going to get serious about licensing so yeah no time like the present to switch to `uv`. Conda forge/miniforge whatever is great, but we're going to use `uv`."
   ]
  },
  {
   "cell_type": "markdown",
   "metadata": {},
   "source": [
    "# Install `numpy`\n",
    "Okay now let's get this party started.\n",
    "\n",
    "```bash\n",
    "# Let's get set up to do numerical computing in python\n",
    "uv add numpy \n",
    "# We want\n",
    "uv add IPython\n",
    "# Install matplotlib to plot graphs and stuff\n",
    "uv add matplotlib\n",
    "# Install jupyterlab to run notebooks\n",
    "uv add jupyterlab\n",
    "uv sync\n",
    "```\n",
    "\n",
    "and finally \n",
    "```bash\n",
    "uv run -m IPython\n",
    "```"
   ]
  },
  {
   "cell_type": "markdown",
   "metadata": {},
   "source": [
    "This is the IPython REPL, which is going to be your best friend. Can't get your notebook working? Some stupid kernel problems or VS Code fighting your `uv` installation? Fuck it, paste it into `ipython`\n",
    ":::{tip} REPL means \n",
    ":label: repl\n",
    "**R**ead  \n",
    "**E**xecute  \n",
    "**P**rint  \n",
    "**L**oop  \n",
    ":::\n",
    "\n",
    "This is my debugger. There are many like it, but this one is mine. Python is an interpreted language, so you can always just run it step by step right in the [REPL](#repl), which is what I want you to do right now.\n",
    "\n"
   ]
  },
  {
   "cell_type": "markdown",
   "metadata": {},
   "source": [
    "# ENOUGH TALK! LET'S RUN SOME CODE\n",
    "Alright already damn. Give us a second. I'm assuming people have never run a jupyter notebook or opened a terminal in their life sheesh. \n",
    "\n",
    ":::{div}\n",
    ":class: dark:hidden\n",
    "Again you can download this notebook by clicking the [download button](#download-light) above and copy it to  \n",
    "```bash\n",
    "~/src/scicomp_py/chapter-01.ipynb\n",
    "```\n",
    ":::\n",
    ":::{div}\n",
    ":class: hidden dark:block\n",
    "Again you can download this notebook by clicking the [download button](#download-dark) above and copy it to  \n",
    "```bash\n",
    "~/src/scicomp_py/chapter-01.ipynb\n",
    "```\n",
    ":::\n",
    "\n",
    "---\n",
    "\n",
    "or you can create a new file through IDE GUI, call it `chapter-01.ipynb`, and open it in your IDE.\n",
    "\n",
    "---\n",
    "\n",
    "\n",
    "or you can do the following in a terminal\n",
    "```bash\n",
    "touch chapter-01.ipynb\n",
    "```\n",
    "and THEN open that file in your IDE.\n",
    "\n",
    "---\n",
    "\n",
    "And if all else fails, use the IPython [REPL](#repl). Copy/paste this in there line by line. It works.\n",
    "\n",
    "# OKAY RUN THIS"
   ]
  },
  {
   "cell_type": "code",
   "execution_count": 34,
   "metadata": {},
   "outputs": [],
   "source": [
    "import numpy as np\n",
    "\n",
    "# Okay this is a \"hello world\" of numerical computing.\n",
    "# We're going to make a cosine wave.\n",
    "x = np.linspace(0,4*np.pi, 100) \n",
    "y = np.sin(x)\n"
   ]
  },
  {
   "cell_type": "markdown",
   "metadata": {},
   "source": [
    "Okay let's take a look at `x`"
   ]
  },
  {
   "cell_type": "code",
   "execution_count": 35,
   "metadata": {},
   "outputs": [
    {
     "name": "stdout",
     "output_type": "stream",
     "text": [
      "[ 0.          0.12693304  0.25386607  0.38079911  0.50773215  0.63466518\n",
      "  0.76159822  0.88853126  1.01546429  1.14239733  1.26933037  1.3962634\n",
      "  1.52319644  1.65012947  1.77706251  1.90399555  2.03092858  2.15786162\n",
      "  2.28479466  2.41172769  2.53866073  2.66559377  2.7925268   2.91945984\n",
      "  3.04639288  3.17332591  3.30025895  3.42719199  3.55412502  3.68105806\n",
      "  3.8079911   3.93492413  4.06185717  4.1887902   4.31572324  4.44265628\n",
      "  4.56958931  4.69652235  4.82345539  4.95038842  5.07732146  5.2042545\n",
      "  5.33118753  5.45812057  5.58505361  5.71198664  5.83891968  5.96585272\n",
      "  6.09278575  6.21971879  6.34665183  6.47358486  6.6005179   6.72745093\n",
      "  6.85438397  6.98131701  7.10825004  7.23518308  7.36211612  7.48904915\n",
      "  7.61598219  7.74291523  7.86984826  7.9967813   8.12371434  8.25064737\n",
      "  8.37758041  8.50451345  8.63144648  8.75837952  8.88531256  9.01224559\n",
      "  9.13917863  9.26611167  9.3930447   9.51997774  9.64691077  9.77384381\n",
      "  9.90077685 10.02770988 10.15464292 10.28157596 10.40850899 10.53544203\n",
      " 10.66237507 10.7893081  10.91624114 11.04317418 11.17010721 11.29704025\n",
      " 11.42397329 11.55090632 11.67783936 11.8047724  11.93170543 12.05863847\n",
      " 12.1855715  12.31250454 12.43943758 12.56637061]\n"
     ]
    }
   ],
   "source": [
    "print(x)"
   ]
  },
  {
   "cell_type": "markdown",
   "metadata": {},
   "source": [
    "Now let's take a look at `y`"
   ]
  },
  {
   "cell_type": "code",
   "execution_count": 36,
   "metadata": {},
   "outputs": [
    {
     "name": "stdout",
     "output_type": "stream",
     "text": [
      "[ 0.00000000e+00  1.26592454e-01  2.51147987e-01  3.71662456e-01\n",
      "  4.86196736e-01  5.92907929e-01  6.90079011e-01  7.76146464e-01\n",
      "  8.49725430e-01  9.09631995e-01  9.54902241e-01  9.84807753e-01\n",
      "  9.98867339e-01  9.96854776e-01  9.78802446e-01  9.45000819e-01\n",
      "  8.95993774e-01  8.32569855e-01  7.55749574e-01  6.66769001e-01\n",
      "  5.67059864e-01  4.58226522e-01  3.42020143e-01  2.20310533e-01\n",
      "  9.50560433e-02 -3.17279335e-02 -1.58001396e-01 -2.81732557e-01\n",
      " -4.00930535e-01 -5.13677392e-01 -6.18158986e-01 -7.12694171e-01\n",
      " -7.95761841e-01 -8.66025404e-01 -9.22354294e-01 -9.63842159e-01\n",
      " -9.89821442e-01 -9.99874128e-01 -9.93838464e-01 -9.71811568e-01\n",
      " -9.34147860e-01 -8.81453363e-01 -8.14575952e-01 -7.34591709e-01\n",
      " -6.42787610e-01 -5.40640817e-01 -4.29794912e-01 -3.12033446e-01\n",
      " -1.89251244e-01 -6.34239197e-02  6.34239197e-02  1.89251244e-01\n",
      "  3.12033446e-01  4.29794912e-01  5.40640817e-01  6.42787610e-01\n",
      "  7.34591709e-01  8.14575952e-01  8.81453363e-01  9.34147860e-01\n",
      "  9.71811568e-01  9.93838464e-01  9.99874128e-01  9.89821442e-01\n",
      "  9.63842159e-01  9.22354294e-01  8.66025404e-01  7.95761841e-01\n",
      "  7.12694171e-01  6.18158986e-01  5.13677392e-01  4.00930535e-01\n",
      "  2.81732557e-01  1.58001396e-01  3.17279335e-02 -9.50560433e-02\n",
      " -2.20310533e-01 -3.42020143e-01 -4.58226522e-01 -5.67059864e-01\n",
      " -6.66769001e-01 -7.55749574e-01 -8.32569855e-01 -8.95993774e-01\n",
      " -9.45000819e-01 -9.78802446e-01 -9.96854776e-01 -9.98867339e-01\n",
      " -9.84807753e-01 -9.54902241e-01 -9.09631995e-01 -8.49725430e-01\n",
      " -7.76146464e-01 -6.90079011e-01 -5.92907929e-01 -4.86196736e-01\n",
      " -3.71662456e-01 -2.51147987e-01 -1.26592454e-01 -4.89858720e-16]\n"
     ]
    }
   ],
   "source": [
    "print(y)"
   ]
  },
  {
   "cell_type": "markdown",
   "metadata": {},
   "source": [
    "There's a better way to visualize data in python of course. There are a hundred different packages out there now, from `bokeh` to `ggplot`, but we're going to start with the tried and true `matplotlib`."
   ]
  },
  {
   "cell_type": "code",
   "execution_count": 37,
   "metadata": {},
   "outputs": [
    {
     "data": {
      "image/png": "[encoded data removed]",
      "text/plain": [
       "<Figure size 640x480 with 1 Axes>"
      ]
     },
     "metadata": {},
     "output_type": "display_data"
    }
   ],
   "source": [
    "# Let's plot our function\n",
    "import matplotlib.pyplot as plt\n",
    "plt.plot(x, y)\n",
    "plt.show()\n"
   ]
  },
  {
   "cell_type": "markdown",
   "metadata": {},
   "source": [
    "So seems like no big deal eh?\n",
    "\n",
    "Wrong!\n",
    "\n",
    "We've managed to connect our mathematical entities \n",
    ":::{math}\n",
    ":label: sin-curve\n",
    "f(x)=\\sin x,\\qquad x\\in[0,4\\pi].\n",
    ":::\n",
    "with code we can run\n",
    "```python\n",
    "import numpy as np\n",
    "x = np.linspace(0,4*np.pi, 100) \n",
    "y = np.sin(x)\n",
    "```"
   ]
  },
  {
   "cell_type": "markdown",
   "metadata": {},
   "source": [
    "# The most useful function in Python\n",
    "I'm talking about `dir()` of course!  \n",
    "The second most helpful is `help()`. Let's start by using the second to tell us about the first!"
   ]
  },
  {
   "cell_type": "code",
   "execution_count": 38,
   "metadata": {},
   "outputs": [
    {
     "name": "stdout",
     "output_type": "stream",
     "text": [
      "Help on built-in function dir in module builtins:\n",
      "\n",
      "dir(...)\n",
      "    Show attributes of an object.\n",
      "\n",
      "    If called without an argument, return the names in the current scope.\n",
      "    Else, return an alphabetized list of names comprising (some of) the attributes\n",
      "    of the given object, and of attributes reachable from it.\n",
      "    If the object supplies a method named __dir__, it will be used; otherwise\n",
      "    the default dir() logic is used and returns:\n",
      "      for a module object: the module's attributes.\n",
      "      for a class object:  its attributes, and recursively the attributes\n",
      "        of its bases.\n",
      "      for any other object: its attributes, its class's attributes, and\n",
      "        recursively the attributes of its class's base classes.\n",
      "\n"
     ]
    }
   ],
   "source": [
    "help(dir)"
   ]
  },
  {
   "cell_type": "code",
   "execution_count": 39,
   "metadata": {},
   "outputs": [
    {
     "name": "stdout",
     "output_type": "stream",
     "text": [
      "False_\n",
      "ScalarType\n",
      "True_\n",
      "abs\n",
      "absolute\n",
      "acos\n",
      "acosh\n",
      "add\n",
      "all\n",
      "allclose\n"
     ]
    }
   ],
   "source": [
    "items_in_numpy = [x for x in dir(np) if not x.startswith('_')]\n",
    "\n",
    "for item in items_in_numpy[:10]:\n",
    "    print(item)"
   ]
  },
  {
   "cell_type": "code",
   "execution_count": 40,
   "metadata": {},
   "outputs": [
    {
     "name": "stdout",
     "output_type": "stream",
     "text": [
      "vdot\n",
      "vecdot\n",
      "vecmat\n",
      "vectorize\n",
      "void\n",
      "vsplit\n",
      "vstack\n",
      "where\n",
      "zeros\n",
      "zeros_like\n"
     ]
    }
   ],
   "source": [
    "for item in items_in_numpy[-10:]:\n",
    "    print(item)"
   ]
  },
  {
   "cell_type": "code",
   "execution_count": 41,
   "metadata": {},
   "outputs": [
    {
     "name": "stdout",
     "output_type": "stream",
     "text": [
      "Help on _ArrayFunctionDispatcher in module numpy:\n",
      "\n",
      "zeros_like(a, dtype=None, order='K', subok=True, shape=None, *, device=None)\n",
      "    Return an array of zeros with the same shape and type as a given array.\n",
      "\n",
      "    Parameters\n",
      "    ----------\n",
      "    a : array_like\n",
      "        The shape and data-type of `a` define these same attributes of\n",
      "        the returned array.\n",
      "    dtype : data-type, optional\n",
      "        Overrides the data type of the result.\n",
      "    order : {'C', 'F', 'A', or 'K'}, optional\n",
      "        Overrides the memory layout of the result. 'C' means C-order,\n",
      "        'F' means F-order, 'A' means 'F' if `a` is Fortran contiguous,\n",
      "        'C' otherwise. 'K' means match the layout of `a` as closely\n",
      "        as possible.\n",
      "    subok : bool, optional.\n",
      "        If True, then the newly created array will use the sub-class\n",
      "        type of `a`, otherwise it will be a base-class array. Defaults\n",
      "        to True.\n",
      "    shape : int or sequence of ints, optional.\n",
      "        Overrides the shape of the result. If order='K' and the number of\n",
      "        dimensions is unchanged, will try to keep order, otherwise,\n",
      "        order='C' is implied.\n",
      "    device : str, optional\n",
      "        The device on which to place the created array. Default: None.\n",
      "        For Array-API interoperability only, so must be ``\"cpu\"`` if passed.\n",
      "\n",
      "        .. versionadded:: 2.0.0\n",
      "\n",
      "    Returns\n",
      "    -------\n",
      "    out : ndarray\n",
      "        Array of zeros with the same shape and type as `a`.\n",
      "\n",
      "    See Also\n",
      "    --------\n",
      "    empty_like : Return an empty array with shape and type of input.\n",
      "    ones_like : Return an array of ones with shape and type of input.\n",
      "    full_like : Return a new array with shape of input filled with value.\n",
      "    zeros : Return a new array setting values to zero.\n",
      "\n",
      "    Examples\n",
      "    --------\n",
      "    >>> import numpy as np\n",
      "    >>> x = np.arange(6)\n",
      "    >>> x = x.reshape((2, 3))\n",
      "    >>> x\n",
      "    array([[0, 1, 2],\n",
      "           [3, 4, 5]])\n",
      "    >>> np.zeros_like(x)\n",
      "    array([[0, 0, 0],\n",
      "           [0, 0, 0]])\n",
      "\n",
      "    >>> y = np.arange(3, dtype=float)\n",
      "    >>> y\n",
      "    array([0., 1., 2.])\n",
      "    >>> np.zeros_like(y)\n",
      "    array([0.,  0.,  0.])\n",
      "\n"
     ]
    }
   ],
   "source": [
    "help(np.zeros_like)"
   ]
  },
  {
   "cell_type": "code",
   "execution_count": 42,
   "metadata": {},
   "outputs": [
    {
     "name": "stdout",
     "output_type": "stream",
     "text": [
      "Help on built-in function array in module numpy:\n",
      "\n",
      "array(...)\n",
      "    array(object, dtype=None, *, copy=True, order='K', subok=False, ndmin=0,\n",
      "          like=None)\n",
      "\n",
      "    Create an array.\n",
      "\n",
      "    Parameters\n",
      "    ----------\n",
      "    object : array_like\n",
      "        An array, any object exposing the array interface, an object whose\n",
      "        ``__array__`` method returns an array, or any (nested) sequence.\n",
      "        If object is a scalar, a 0-dimensional array containing object is\n",
      "        returned.\n",
      "    dtype : data-type, optional\n",
      "        The desired data-type for the array. If not given, NumPy will try to use\n",
      "        a default ``dtype`` that can represent the values (by applying promotion\n",
      "        rules when necessary.)\n",
      "    copy : bool, optional\n",
      "        If ``True`` (default), then the array data is copied. If ``None``,\n",
      "        a copy will only be made if ``__array__`` returns a copy, if obj is\n",
      "        a nested sequence, or if a copy is needed to satisfy any of the other\n",
      "        requirements (``dtype``, ``order``, etc.). Note that any copy of\n",
      "        the data is shallow, i.e., for arrays with object dtype, the new\n",
      "        array will point to the same objects. See Examples for `ndarray.copy`.\n",
      "        For ``False`` it raises a ``ValueError`` if a copy cannot be avoided.\n",
      "        Default: ``True``.\n",
      "    order : {'K', 'A', 'C', 'F'}, optional\n",
      "        Specify the memory layout of the array. If object is not an array, the\n",
      "        newly created array will be in C order (row major) unless 'F' is\n",
      "        specified, in which case it will be in Fortran order (column major).\n",
      "        If object is an array the following holds.\n",
      "\n",
      "        ===== ========= ===================================================\n",
      "        order  no copy                     copy=True\n",
      "        ===== ========= ===================================================\n",
      "        'K'   unchanged F & C order preserved, otherwise most similar order\n",
      "        'A'   unchanged F order if input is F and not C, otherwise C order\n",
      "        'C'   C order   C order\n",
      "        'F'   F order   F order\n",
      "        ===== ========= ===================================================\n",
      "\n",
      "        When ``copy=None`` and a copy is made for other reasons, the result is\n",
      "        the same as if ``copy=True``, with some exceptions for 'A', see the\n",
      "        Notes section. The default order is 'K'.\n",
      "    subok : bool, optional\n",
      "        If True, then sub-classes will be passed-through, otherwise\n",
      "        the returned array will be forced to be a base-class array (default).\n",
      "    ndmin : int, optional\n",
      "        Specifies the minimum number of dimensions that the resulting\n",
      "        array should have.  Ones will be prepended to the shape as\n",
      "        needed to meet this requirement.\n",
      "    like : array_like, optional\n",
      "        Reference object to allow the creation of arrays which are not\n",
      "        NumPy arrays. If an array-like passed in as ``like`` supports\n",
      "        the ``__array_function__`` protocol, the result will be defined\n",
      "        by it. In this case, it ensures the creation of an array object\n",
      "        compatible with that passed in via this argument.\n",
      "\n",
      "        .. versionadded:: 1.20.0\n",
      "\n",
      "    Returns\n",
      "    -------\n",
      "    out : ndarray\n",
      "        An array object satisfying the specified requirements.\n",
      "\n",
      "    See Also\n",
      "    --------\n",
      "    empty_like : Return an empty array with shape and type of input.\n",
      "    ones_like : Return an array of ones with shape and type of input.\n",
      "    zeros_like : Return an array of zeros with shape and type of input.\n",
      "    full_like : Return a new array with shape of input filled with value.\n",
      "    empty : Return a new uninitialized array.\n",
      "    ones : Return a new array setting values to one.\n",
      "    zeros : Return a new array setting values to zero.\n",
      "    full : Return a new array of given shape filled with value.\n",
      "    copy: Return an array copy of the given object.\n",
      "\n",
      "\n",
      "    Notes\n",
      "    -----\n",
      "    When order is 'A' and ``object`` is an array in neither 'C' nor 'F' order,\n",
      "    and a copy is forced by a change in dtype, then the order of the result is\n",
      "    not necessarily 'C' as expected. This is likely a bug.\n",
      "\n",
      "    Examples\n",
      "    --------\n",
      "    >>> import numpy as np\n",
      "    >>> np.array([1, 2, 3])\n",
      "    array([1, 2, 3])\n",
      "\n",
      "    Upcasting:\n",
      "\n",
      "    >>> np.array([1, 2, 3.0])\n",
      "    array([ 1.,  2.,  3.])\n",
      "\n",
      "    More than one dimension:\n",
      "\n",
      "    >>> np.array([[1, 2], [3, 4]])\n",
      "    array([[1, 2],\n",
      "           [3, 4]])\n",
      "\n",
      "    Minimum dimensions 2:\n",
      "\n",
      "    >>> np.array([1, 2, 3], ndmin=2)\n",
      "    array([[1, 2, 3]])\n",
      "\n",
      "    Type provided:\n",
      "\n",
      "    >>> np.array([1, 2, 3], dtype=complex)\n",
      "    array([ 1.+0.j,  2.+0.j,  3.+0.j])\n",
      "\n",
      "    Data-type consisting of more than one element:\n",
      "\n",
      "    >>> x = np.array([(1,2),(3,4)],dtype=[('a','<i4'),('b','<i4')])\n",
      "    >>> x['a']\n",
      "    array([1, 3], dtype=int32)\n",
      "\n",
      "    Creating an array from sub-classes:\n",
      "\n",
      "    >>> np.array(np.asmatrix('1 2; 3 4'))\n",
      "    array([[1, 2],\n",
      "           [3, 4]])\n",
      "\n",
      "    >>> np.array(np.asmatrix('1 2; 3 4'), subok=True)\n",
      "    matrix([[1, 2],\n",
      "            [3, 4]])\n",
      "\n"
     ]
    }
   ],
   "source": [
    "help(np.array)"
   ]
  },
  {
   "cell_type": "markdown",
   "metadata": {},
   "source": [
    "## Keys to the Kingdom\n",
    "Now we know how to use both `np.array` and `np.zeros_like`"
   ]
  },
  {
   "cell_type": "code",
   "execution_count": 43,
   "metadata": {},
   "outputs": [
    {
     "name": "stdout",
     "output_type": "stream",
     "text": [
      "[1 2 3]\n"
     ]
    }
   ],
   "source": [
    "a = np.array([1, 2, 3])\n",
    "b = np.zeros_like(a)\n",
    "print(a)"
   ]
  },
  {
   "cell_type": "code",
   "execution_count": 44,
   "metadata": {},
   "outputs": [
    {
     "name": "stdout",
     "output_type": "stream",
     "text": [
      "[0 0 0]\n"
     ]
    }
   ],
   "source": [
    "print(b)"
   ]
  },
  {
   "cell_type": "markdown",
   "metadata": {},
   "source": [
    "There are a million and one resources out there that show all of the amazing and wonderful uses of linear algebra and arrays on a computer. No doubt you use some of them almost if not every day. And we're going to link to those, later.\n",
    "\n",
    "For right now though, we're going to call it a day. You've made some huge leaps even if it doesn't feel like it right now. If you're like \"wtf I know this already!?\" then good for you. Here's a cookie 🍪."
   ]
  },
  {
   "cell_type": "markdown",
   "metadata": {},
   "source": []
  }
 ],
 "metadata": {
  "kernelspec": {
   "display_name": ".venv",
   "language": "python",
   "name": "python3"
  },
  "language_info": {
   "codemirror_mode": {
    "name": "ipython",
    "version": 3
   },
   "file_extension": ".py",
   "mimetype": "text/x-python",
   "name": "python",
   "nbconvert_exporter": "python",
   "pygments_lexer": "ipython3",
   "version": "3.12.9"
  }
 },
 "nbformat": 4,
 "nbformat_minor": 2
}
